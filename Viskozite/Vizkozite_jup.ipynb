{
 "cells": [
  {
   "cell_type": "code",
   "execution_count": 15,
   "metadata": {},
   "outputs": [],
   "source": [
    "\n",
    "import pandas as pd\n",
    "import numpy as np\n",
    "import matplotlib.pyplot as plt\n",
    "import seaborn as sns"
   ]
  },
  {
   "cell_type": "code",
   "execution_count": 16,
   "metadata": {},
   "outputs": [
    {
     "data": {
      "text/html": [
       "<div>\n",
       "<style scoped>\n",
       "    .dataframe tbody tr th:only-of-type {\n",
       "        vertical-align: middle;\n",
       "    }\n",
       "\n",
       "    .dataframe tbody tr th {\n",
       "        vertical-align: top;\n",
       "    }\n",
       "\n",
       "    .dataframe thead th {\n",
       "        text-align: right;\n",
       "    }\n",
       "</style>\n",
       "<table border=\"1\" class=\"dataframe\">\n",
       "  <thead>\n",
       "    <tr style=\"text-align: right;\">\n",
       "      <th></th>\n",
       "      <th>Şişe_h (cm)</th>\n",
       "      <th>Kılcal_r (cm)</th>\n",
       "      <th>Kılcal_l (cm)</th>\n",
       "      <th>t (s)</th>\n",
       "      <th>P kPa</th>\n",
       "      <th>d (g/cm³)</th>\n",
       "      <th>g (cm/s2)</th>\n",
       "      <th>V (ml)</th>\n",
       "    </tr>\n",
       "  </thead>\n",
       "  <tbody>\n",
       "    <tr>\n",
       "      <th>0</th>\n",
       "      <td>11</td>\n",
       "      <td>NaN</td>\n",
       "      <td>20.5</td>\n",
       "      <td>77</td>\n",
       "      <td>107.91</td>\n",
       "      <td>1</td>\n",
       "      <td>981.0</td>\n",
       "      <td>2</td>\n",
       "    </tr>\n",
       "    <tr>\n",
       "      <th>1</th>\n",
       "      <td>9</td>\n",
       "      <td>NaN</td>\n",
       "      <td>20.5</td>\n",
       "      <td>115</td>\n",
       "      <td>88.29</td>\n",
       "      <td>1</td>\n",
       "      <td>981.0</td>\n",
       "      <td>2</td>\n",
       "    </tr>\n",
       "    <tr>\n",
       "      <th>2</th>\n",
       "      <td>7</td>\n",
       "      <td>NaN</td>\n",
       "      <td>20.5</td>\n",
       "      <td>194</td>\n",
       "      <td>68.67</td>\n",
       "      <td>1</td>\n",
       "      <td>981.0</td>\n",
       "      <td>2</td>\n",
       "    </tr>\n",
       "    <tr>\n",
       "      <th>3</th>\n",
       "      <td>5</td>\n",
       "      <td>NaN</td>\n",
       "      <td>20.5</td>\n",
       "      <td>650</td>\n",
       "      <td>49.05</td>\n",
       "      <td>1</td>\n",
       "      <td>981.0</td>\n",
       "      <td>2</td>\n",
       "    </tr>\n",
       "  </tbody>\n",
       "</table>\n",
       "</div>"
      ],
      "text/plain": [
       "   Şişe_h (cm)  Kılcal_r (cm)  Kılcal_l (cm)  t (s)   P kPa  d (g/cm³)  \\\n",
       "0           11            NaN           20.5     77  107.91          1   \n",
       "1            9            NaN           20.5    115   88.29          1   \n",
       "2            7            NaN           20.5    194   68.67          1   \n",
       "3            5            NaN           20.5    650   49.05          1   \n",
       "\n",
       "   g (cm/s2)  V (ml)  \n",
       "0      981.0       2  \n",
       "1      981.0       2  \n",
       "2      981.0       2  \n",
       "3      981.0       2  "
      ]
     },
     "execution_count": 16,
     "metadata": {},
     "output_type": "execute_result"
    }
   ],
   "source": [
    "#dataframe\n",
    "Şişe_h = [11,9,7,5]\n",
    "Kılcal_r = ['-','-','-','-']\n",
    "Kılcal_l = [20.5,20.5,20.5,20.5]\n",
    "t = [77,115,194,650]\n",
    "P = [107.91,88.29,68.67,49.05]\n",
    "d = [1,1,1,1]\n",
    "g = [9.81,9.81,9.81,9.81]\n",
    "V = [2,2,2,2]\n",
    "\n",
    "#make a dataframe\n",
    "data = (Şişe_h,Kılcal_r,Kılcal_l,t,P,d,g,V)\n",
    "data = pd.DataFrame(data)\n",
    "data.index = ['Şişe_h (cm)','Kılcal_r (cm)','Kılcal_l (cm)','t (s)','P kPa','d (g/cm³)','g (cm/s2)','V (ml)']  # type: ignore\n",
    "data = data.transpose()\n",
    "data.index.name = 'Deney No'\n",
    "data.index = data.index + 1\n",
    "#get \"-\" data\n",
    "data = data.replace('-',np.nan)\n",
    "\n",
    "#hide index\n",
    "data = data.reset_index(drop=True)\n",
    "#get the \"g\" column\n",
    "data['g (cm/s2)'] = data['g (cm/s2)'] * 100\n",
    "data\n",
    "\n",
    "\n"
   ]
  },
  {
   "cell_type": "code",
   "execution_count": 17,
   "metadata": {},
   "outputs": [
    {
     "data": {
      "text/html": [
       "<div>\n",
       "<style scoped>\n",
       "    .dataframe tbody tr th:only-of-type {\n",
       "        vertical-align: middle;\n",
       "    }\n",
       "\n",
       "    .dataframe tbody tr th {\n",
       "        vertical-align: top;\n",
       "    }\n",
       "\n",
       "    .dataframe thead th {\n",
       "        text-align: right;\n",
       "    }\n",
       "</style>\n",
       "<table border=\"1\" class=\"dataframe\">\n",
       "  <thead>\n",
       "    <tr style=\"text-align: right;\">\n",
       "      <th></th>\n",
       "      <th>Şişe_h (cm)</th>\n",
       "      <th>Kılcal_r (cm)</th>\n",
       "      <th>Kılcal_l (cm)</th>\n",
       "      <th>t (s)</th>\n",
       "      <th>P kPa</th>\n",
       "      <th>d (g/cm³)</th>\n",
       "      <th>g (cm/s2)</th>\n",
       "      <th>V (ml)</th>\n",
       "      <th>P</th>\n",
       "    </tr>\n",
       "  </thead>\n",
       "  <tbody>\n",
       "    <tr>\n",
       "      <th>0</th>\n",
       "      <td>11</td>\n",
       "      <td>NaN</td>\n",
       "      <td>20.5</td>\n",
       "      <td>77</td>\n",
       "      <td>107.91</td>\n",
       "      <td>1</td>\n",
       "      <td>981.0</td>\n",
       "      <td>2</td>\n",
       "      <td>10791.0</td>\n",
       "    </tr>\n",
       "    <tr>\n",
       "      <th>1</th>\n",
       "      <td>9</td>\n",
       "      <td>NaN</td>\n",
       "      <td>20.5</td>\n",
       "      <td>115</td>\n",
       "      <td>88.29</td>\n",
       "      <td>1</td>\n",
       "      <td>981.0</td>\n",
       "      <td>2</td>\n",
       "      <td>8829.0</td>\n",
       "    </tr>\n",
       "    <tr>\n",
       "      <th>2</th>\n",
       "      <td>7</td>\n",
       "      <td>NaN</td>\n",
       "      <td>20.5</td>\n",
       "      <td>194</td>\n",
       "      <td>68.67</td>\n",
       "      <td>1</td>\n",
       "      <td>981.0</td>\n",
       "      <td>2</td>\n",
       "      <td>6867.0</td>\n",
       "    </tr>\n",
       "    <tr>\n",
       "      <th>3</th>\n",
       "      <td>5</td>\n",
       "      <td>NaN</td>\n",
       "      <td>20.5</td>\n",
       "      <td>650</td>\n",
       "      <td>49.05</td>\n",
       "      <td>1</td>\n",
       "      <td>981.0</td>\n",
       "      <td>2</td>\n",
       "      <td>4905.0</td>\n",
       "    </tr>\n",
       "  </tbody>\n",
       "</table>\n",
       "</div>"
      ],
      "text/plain": [
       "   Şişe_h (cm)  Kılcal_r (cm)  Kılcal_l (cm)  t (s)   P kPa  d (g/cm³)  \\\n",
       "0           11            NaN           20.5     77  107.91          1   \n",
       "1            9            NaN           20.5    115   88.29          1   \n",
       "2            7            NaN           20.5    194   68.67          1   \n",
       "3            5            NaN           20.5    650   49.05          1   \n",
       "\n",
       "   g (cm/s2)  V (ml)        P  \n",
       "0      981.0       2  10791.0  \n",
       "1      981.0       2   8829.0  \n",
       "2      981.0       2   6867.0  \n",
       "3      981.0       2   4905.0  "
      ]
     },
     "execution_count": 17,
     "metadata": {},
     "output_type": "execute_result"
    }
   ],
   "source": [
    "#P \n",
    "data[\"P\"] = data[\"Şişe_h (cm)\"] * data[\"d (g/cm³)\"] * data[\"g (cm/s2)\"] \n",
    "data"
   ]
  },
  {
   "cell_type": "code",
   "execution_count": 18,
   "metadata": {},
   "outputs": [
    {
     "data": {
      "text/html": [
       "<div>\n",
       "<style scoped>\n",
       "    .dataframe tbody tr th:only-of-type {\n",
       "        vertical-align: middle;\n",
       "    }\n",
       "\n",
       "    .dataframe tbody tr th {\n",
       "        vertical-align: top;\n",
       "    }\n",
       "\n",
       "    .dataframe thead th {\n",
       "        text-align: right;\n",
       "    }\n",
       "</style>\n",
       "<table border=\"1\" class=\"dataframe\">\n",
       "  <thead>\n",
       "    <tr style=\"text-align: right;\">\n",
       "      <th></th>\n",
       "      <th>Şişe_h (cm)</th>\n",
       "      <th>Kılcal_r (cm)</th>\n",
       "      <th>Kılcal_l (cm)</th>\n",
       "      <th>t (s)</th>\n",
       "      <th>d (g/cm³)</th>\n",
       "      <th>g (cm/s2)</th>\n",
       "      <th>V (ml)</th>\n",
       "      <th>P</th>\n",
       "      <th>v/t (ml/s)</th>\n",
       "      <th>viskozite_katsayısı</th>\n",
       "    </tr>\n",
       "  </thead>\n",
       "  <tbody>\n",
       "    <tr>\n",
       "      <th>0</th>\n",
       "      <td>11</td>\n",
       "      <td>0.240575</td>\n",
       "      <td>20.5</td>\n",
       "      <td>77</td>\n",
       "      <td>1</td>\n",
       "      <td>981.0</td>\n",
       "      <td>2</td>\n",
       "      <td>10791.0</td>\n",
       "      <td>0.0260</td>\n",
       "      <td>0.000064</td>\n",
       "    </tr>\n",
       "    <tr>\n",
       "      <th>1</th>\n",
       "      <td>9</td>\n",
       "      <td>0.240575</td>\n",
       "      <td>20.5</td>\n",
       "      <td>115</td>\n",
       "      <td>1</td>\n",
       "      <td>981.0</td>\n",
       "      <td>2</td>\n",
       "      <td>8829.0</td>\n",
       "      <td>0.0174</td>\n",
       "      <td>0.000064</td>\n",
       "    </tr>\n",
       "    <tr>\n",
       "      <th>2</th>\n",
       "      <td>7</td>\n",
       "      <td>0.240575</td>\n",
       "      <td>20.5</td>\n",
       "      <td>194</td>\n",
       "      <td>1</td>\n",
       "      <td>981.0</td>\n",
       "      <td>2</td>\n",
       "      <td>6867.0</td>\n",
       "      <td>0.0103</td>\n",
       "      <td>0.000064</td>\n",
       "    </tr>\n",
       "    <tr>\n",
       "      <th>3</th>\n",
       "      <td>5</td>\n",
       "      <td>0.240575</td>\n",
       "      <td>20.5</td>\n",
       "      <td>650</td>\n",
       "      <td>1</td>\n",
       "      <td>981.0</td>\n",
       "      <td>2</td>\n",
       "      <td>4905.0</td>\n",
       "      <td>0.0031</td>\n",
       "      <td>0.000064</td>\n",
       "    </tr>\n",
       "  </tbody>\n",
       "</table>\n",
       "</div>"
      ],
      "text/plain": [
       "   Şişe_h (cm)  Kılcal_r (cm)  Kılcal_l (cm)  t (s)  d (g/cm³)  g (cm/s2)  \\\n",
       "0           11       0.240575           20.5     77          1      981.0   \n",
       "1            9       0.240575           20.5    115          1      981.0   \n",
       "2            7       0.240575           20.5    194          1      981.0   \n",
       "3            5       0.240575           20.5    650          1      981.0   \n",
       "\n",
       "   V (ml)        P  v/t (ml/s)  viskozite_katsayısı  \n",
       "0       2  10791.0      0.0260             0.000064  \n",
       "1       2   8829.0      0.0174             0.000064  \n",
       "2       2   6867.0      0.0103             0.000064  \n",
       "3       2   4905.0      0.0031             0.000064  "
      ]
     },
     "execution_count": 18,
     "metadata": {},
     "output_type": "execute_result"
    }
   ],
   "source": [
    "#kılcal r\n",
    "data[\"Kılcal_r (cm)\"] = ((data[\"V (ml)\"][0]) / (3.1415 * data[\"Şişe_h (cm)\"][0]))**(1/2)\n",
    "\n",
    "#hide index of dataframe\n",
    "data = data.reset_index(drop=True)\n",
    "data = data\n",
    "data[\"d (g/cm³)\"] = data[\"d (g/cm³)\"] \n",
    "\n",
    "data[\"P\"] = data[\"P\"].round(4)\n",
    "#drop a column\n",
    "data = data.drop(columns=['P kPa'])\n",
    "data[\"v/t (ml/s)\"] = data[\"V (ml)\"] / data[\"t (s)\"]\n",
    "data[\"v/t (ml/s)\"] = data[\"v/t (ml/s)\"].round(4)\n",
    "data[\"viskozite_katsayısı\"] = 3.1415 *data[\"Kılcal_r (cm)\"]**4 / (8 * 20.5)\n",
    "\n",
    "data"
   ]
  },
  {
   "cell_type": "code",
   "execution_count": 19,
   "metadata": {},
   "outputs": [
    {
     "data": {
      "text/plain": [
       "0     415453.5\n",
       "1     507667.5\n",
       "2     666099.0\n",
       "3    1594125.0\n",
       "dtype: float64"
      ]
     },
     "execution_count": 19,
     "metadata": {},
     "output_type": "execute_result"
    }
   ],
   "source": [
    "p = data[\"P\"]\n",
    "v_t = data[\"V (ml)\"] / data[\"t (s)\"]\n",
    "p_v_t = data[\"P\"] / ((data[\"V (ml)\"] / data[\"t (s)\"]))\n",
    "p_v_t"
   ]
  },
  {
   "cell_type": "code",
   "execution_count": 20,
   "metadata": {},
   "outputs": [
    {
     "data": {
      "text/plain": [
       "0     415453.5\n",
       "1     507667.5\n",
       "2     666099.0\n",
       "3    1594125.0\n",
       "Name: ε, dtype: float64"
      ]
     },
     "execution_count": 20,
     "metadata": {},
     "output_type": "execute_result"
    }
   ],
   "source": [
    "data[\"Pε/V\"] = data[\"P\"] * p_v_t / data[\"V (ml)\"]\n",
    "data[\"Pε/V\"] = data[\"Pε/V\"].round(4)\n",
    "data[\"ε\"] = data[\"Pε/V\"]  * data[\"V (ml)\"] / data[\"P\"]\n",
    "data[\"ε\"] = data[\"ε\"].round(4)\n",
    "data[\"ε\"]"
   ]
  },
  {
   "cell_type": "code",
   "execution_count": 21,
   "metadata": {},
   "outputs": [],
   "source": [
    "data[\"P\"] = data[\"P\"]"
   ]
  },
  {
   "cell_type": "code",
   "execution_count": 22,
   "metadata": {},
   "outputs": [
    {
     "data": {
      "text/plain": [
       "0    0.025974\n",
       "1    0.017391\n",
       "2    0.010309\n",
       "3    0.003077\n",
       "dtype: float64"
      ]
     },
     "execution_count": 22,
     "metadata": {},
     "output_type": "execute_result"
    }
   ],
   "source": [
    "v_t"
   ]
  },
  {
   "cell_type": "code",
   "execution_count": 23,
   "metadata": {},
   "outputs": [
    {
     "data": {
      "text/html": [
       "<div>\n",
       "<style scoped>\n",
       "    .dataframe tbody tr th:only-of-type {\n",
       "        vertical-align: middle;\n",
       "    }\n",
       "\n",
       "    .dataframe tbody tr th {\n",
       "        vertical-align: top;\n",
       "    }\n",
       "\n",
       "    .dataframe thead th {\n",
       "        text-align: right;\n",
       "    }\n",
       "</style>\n",
       "<table border=\"1\" class=\"dataframe\">\n",
       "  <thead>\n",
       "    <tr style=\"text-align: right;\">\n",
       "      <th></th>\n",
       "      <th>Şişe_h (cm)</th>\n",
       "      <th>Kılcal_r (cm)</th>\n",
       "      <th>Kılcal_l (cm)</th>\n",
       "      <th>t (s)</th>\n",
       "      <th>d (g/cm³)</th>\n",
       "      <th>g (cm/s2)</th>\n",
       "      <th>V (ml)</th>\n",
       "      <th>P</th>\n",
       "      <th>v/t (ml/s)</th>\n",
       "      <th>viskozite_katsayısı</th>\n",
       "      <th>Pε/V</th>\n",
       "      <th>ε</th>\n",
       "    </tr>\n",
       "  </thead>\n",
       "  <tbody>\n",
       "    <tr>\n",
       "      <th>0</th>\n",
       "      <td>11</td>\n",
       "      <td>0.240575</td>\n",
       "      <td>20.5</td>\n",
       "      <td>77</td>\n",
       "      <td>1</td>\n",
       "      <td>981.0</td>\n",
       "      <td>2</td>\n",
       "      <td>10791.0</td>\n",
       "      <td>0.0260</td>\n",
       "      <td>0.000064</td>\n",
       "      <td>2.241579e+09</td>\n",
       "      <td>415453.5</td>\n",
       "    </tr>\n",
       "    <tr>\n",
       "      <th>1</th>\n",
       "      <td>9</td>\n",
       "      <td>0.240575</td>\n",
       "      <td>20.5</td>\n",
       "      <td>115</td>\n",
       "      <td>1</td>\n",
       "      <td>981.0</td>\n",
       "      <td>2</td>\n",
       "      <td>8829.0</td>\n",
       "      <td>0.0174</td>\n",
       "      <td>0.000064</td>\n",
       "      <td>2.241098e+09</td>\n",
       "      <td>507667.5</td>\n",
       "    </tr>\n",
       "    <tr>\n",
       "      <th>2</th>\n",
       "      <td>7</td>\n",
       "      <td>0.240575</td>\n",
       "      <td>20.5</td>\n",
       "      <td>194</td>\n",
       "      <td>1</td>\n",
       "      <td>981.0</td>\n",
       "      <td>2</td>\n",
       "      <td>6867.0</td>\n",
       "      <td>0.0103</td>\n",
       "      <td>0.000064</td>\n",
       "      <td>2.287051e+09</td>\n",
       "      <td>666099.0</td>\n",
       "    </tr>\n",
       "    <tr>\n",
       "      <th>3</th>\n",
       "      <td>5</td>\n",
       "      <td>0.240575</td>\n",
       "      <td>20.5</td>\n",
       "      <td>650</td>\n",
       "      <td>1</td>\n",
       "      <td>981.0</td>\n",
       "      <td>2</td>\n",
       "      <td>4905.0</td>\n",
       "      <td>0.0031</td>\n",
       "      <td>0.000064</td>\n",
       "      <td>3.909592e+09</td>\n",
       "      <td>1594125.0</td>\n",
       "    </tr>\n",
       "  </tbody>\n",
       "</table>\n",
       "</div>"
      ],
      "text/plain": [
       "   Şişe_h (cm)  Kılcal_r (cm)  Kılcal_l (cm)  t (s)  d (g/cm³)  g (cm/s2)  \\\n",
       "0           11       0.240575           20.5     77          1      981.0   \n",
       "1            9       0.240575           20.5    115          1      981.0   \n",
       "2            7       0.240575           20.5    194          1      981.0   \n",
       "3            5       0.240575           20.5    650          1      981.0   \n",
       "\n",
       "   V (ml)        P  v/t (ml/s)  viskozite_katsayısı          Pε/V          ε  \n",
       "0       2  10791.0      0.0260             0.000064  2.241579e+09   415453.5  \n",
       "1       2   8829.0      0.0174             0.000064  2.241098e+09   507667.5  \n",
       "2       2   6867.0      0.0103             0.000064  2.287051e+09   666099.0  \n",
       "3       2   4905.0      0.0031             0.000064  3.909592e+09  1594125.0  "
      ]
     },
     "execution_count": 23,
     "metadata": {},
     "output_type": "execute_result"
    }
   ],
   "source": [
    "data"
   ]
  },
  {
   "cell_type": "code",
   "execution_count": 24,
   "metadata": {},
   "outputs": [],
   "source": [
    "p = data[\"P\"] \n",
    "v_t = data[\"V (ml)\"]/data[\"t (s)\"]\n"
   ]
  },
  {
   "cell_type": "code",
   "execution_count": 25,
   "metadata": {},
   "outputs": [
    {
     "data": {
      "text/html": [
       "<div>\n",
       "<style scoped>\n",
       "    .dataframe tbody tr th:only-of-type {\n",
       "        vertical-align: middle;\n",
       "    }\n",
       "\n",
       "    .dataframe tbody tr th {\n",
       "        vertical-align: top;\n",
       "    }\n",
       "\n",
       "    .dataframe thead th {\n",
       "        text-align: right;\n",
       "    }\n",
       "</style>\n",
       "<table border=\"1\" class=\"dataframe\">\n",
       "  <thead>\n",
       "    <tr style=\"text-align: right;\">\n",
       "      <th></th>\n",
       "      <th>x (P)</th>\n",
       "      <th>y (V/t)</th>\n",
       "    </tr>\n",
       "  </thead>\n",
       "  <tbody>\n",
       "    <tr>\n",
       "      <th>0</th>\n",
       "      <td>10791.0</td>\n",
       "      <td>0.025974</td>\n",
       "    </tr>\n",
       "    <tr>\n",
       "      <th>1</th>\n",
       "      <td>8829.0</td>\n",
       "      <td>0.017391</td>\n",
       "    </tr>\n",
       "    <tr>\n",
       "      <th>2</th>\n",
       "      <td>6867.0</td>\n",
       "      <td>0.010309</td>\n",
       "    </tr>\n",
       "    <tr>\n",
       "      <th>3</th>\n",
       "      <td>4905.0</td>\n",
       "      <td>0.003077</td>\n",
       "    </tr>\n",
       "  </tbody>\n",
       "</table>\n",
       "</div>"
      ],
      "text/plain": [
       "     x (P)   y (V/t)\n",
       "0  10791.0  0.025974\n",
       "1   8829.0  0.017391\n",
       "2   6867.0  0.010309\n",
       "3   4905.0  0.003077"
      ]
     },
     "execution_count": 25,
     "metadata": {},
     "output_type": "execute_result"
    }
   ],
   "source": [
    "#create a dataframe with columns P and V/t\n",
    "p_v_t_reg = (p,v_t)\n",
    "p_v_t_reg = pd.DataFrame(p_v_t_reg)\n",
    "p_v_t_reg = p_v_t_reg.transpose()\n",
    "p_v_t_reg.columns = [\"x (P)\",\"y (V/t)\"]\n",
    "p_v_t_reg = p_v_t_reg.reset_index(drop=True)\n",
    "p_v_t_reg\n",
    "\n",
    "\n"
   ]
  },
  {
   "cell_type": "markdown",
   "metadata": {},
   "source": [
    "\n",
    "y = mx + a\n",
    "\n",
    "m= 8x11^(-3)\n",
    "a= 2.2731\n",
    "r= 0.5882\n"
   ]
  },
  {
   "cell_type": "code",
   "execution_count": 38,
   "metadata": {},
   "outputs": [
    {
     "data": {
      "image/png": "[encoded data removed]",
      "text/plain": [
       "<Figure size 640x480 with 1 Axes>"
      ]
     },
     "metadata": {},
     "output_type": "display_data"
    }
   ],
   "source": [
    "#regplot\n",
    "sns.regplot(x=v_t,y=p,data=p_v_t_reg,color=\"blue\", marker=\"+\",scatter_kws={\"s\": 30},\n",
    "                        line_kws={\"linewidth\": 0.5}, ci=None,truncate=True,order=1)\n",
    "\n",
    "#set labels\n",
    "plt.title(\"Regresyon eğimi ile Epsilon hesabı\")\n",
    "plt.grid(axis=\"both\",    which=\"both\",    color=\"black\",    linestyle=\"-\",linewidth=0.5)\n",
    "plt.xlim(0,0.03)\n",
    "plt.ylim(4000,11000)\n",
    "plt.ylabel(\"P (dyn/cm2)\")\n",
    "plt.xlabel(\"V/t (ml/s)\")\n",
    "\n",
    "plt.savefig(\"P_V_t.png\")\n",
    "plt.show()\n",
    "\n",
    "\n"
   ]
  },
  {
   "attachments": {},
   "cell_type": "markdown",
   "metadata": {},
   "source": [
    "Puvaz Hesabı\n"
   ]
  },
  {
   "cell_type": "code",
   "execution_count": 35,
   "metadata": {},
   "outputs": [
    {
     "data": {
      "text/plain": [
       "2.4318337233352567e-07"
      ]
     },
     "execution_count": 35,
     "metadata": {},
     "output_type": "execute_result"
    }
   ],
   "source": [
    "((981*3.1415*(0.240575)**4)/(8*20.5))*(3.8634*(10**-6))"
   ]
  },
  {
   "cell_type": "code",
   "execution_count": 39,
   "metadata": {},
   "outputs": [],
   "source": [
    "data.to_csv(\"data.csv\")\n"
   ]
  },
  {
   "cell_type": "code",
   "execution_count": null,
   "metadata": {},
   "outputs": [],
   "source": []
  }
 ],
 "metadata": {
  "kernelspec": {
   "display_name": "py110",
   "language": "python",
   "name": "python3"
  },
  "language_info": {
   "codemirror_mode": {
    "name": "ipython",
    "version": 3
   },
   "file_extension": ".py",
   "mimetype": "text/x-python",
   "name": "python",
   "nbconvert_exporter": "python",
   "pygments_lexer": "ipython3",
   "version": "3.11.0"
  },
  "orig_nbformat": 4,
  "vscode": {
   "interpreter": {
    "hash": "2df379e23035d668efa607f511c81b28d967f49897a780dc7e467fec644d62fa"
   }
  }
 },
 "nbformat": 4,
 "nbformat_minor": 2
}
